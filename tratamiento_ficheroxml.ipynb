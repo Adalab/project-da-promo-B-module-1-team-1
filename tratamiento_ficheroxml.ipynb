{
 "cells": [
  {
   "cell_type": "code",
   "execution_count": 2,
   "metadata": {},
   "outputs": [],
   "source": [
    "# Vamos a abrir el fichero xml en python para poder empezar la transformación y automatización.\n",
    "# Debemos metr la ruta de nuestro fichero dentro de tree =\n",
    "\n",
    "import re\n",
    "import os\n",
    "import xml.etree.ElementTree as ET\n",
    "\n",
    "tree = ET.parse('/home/cachito/Adalab/Proyecto1/data_xml.xml')\n",
    "root = tree.getroot()\n",
    "\n",
    "\n",
    "xml_list = []\n",
    "for child in root:\n",
    "    xml_dict = {}\n",
    "    for subchild in child:\n",
    "        xml_dict[subchild.tag] = subchild.text\n",
    "    xml_list.append(xml_dict) # Es una lista que contiene diccionarios"
   ]
  },
  {
   "cell_type": "code",
   "execution_count": null,
   "metadata": {},
   "outputs": [],
   "source": [
    "# Queremos que los valores del index no sean tipo string, sino tipo integer\n",
    "\n",
    "def cambia_a_entero(lista) :\n",
    "    for i in lista :\n",
    "        i[\"index\"] = int(i[\"index\"])\n",
    "    return lista\n",
    "   \n",
    "cambia_a_entero(xml_list)"
   ]
  },
  {
   "cell_type": "code",
   "execution_count": null,
   "metadata": {},
   "outputs": [],
   "source": [
    "# Queremos añadir una columna que defina cada uno de los valores de gender con su descripción literal, para que resulte más legible\n",
    "\n",
    "def designa_generos(lista) :\n",
    "    for i in lista :\n",
    "        \n",
    "        if i[\"gender\"] == \"0\":\n",
    "                i[\"gender_text\"] = \"Man\" \n",
    "        elif i[\"gender\"] == \"1\":\n",
    "                i[\"gender_text\"] = \"Woman\"\n",
    "        elif i[\"gender\"] == \"2\":\n",
    "                i[\"gender_text\"] = \"Nonbinary\"\n",
    "        elif i[\"gender\"] == \"3\":\n",
    "                i[\"gender_text\"] = \"Prefer not to say\"\n",
    "        elif i[\"gender\"] == \"4\":\n",
    "                i[\"gender_text\"] = \"Prefer to self-describe\"\n",
    "        else:\n",
    "                print(\"Este es un genero sin definir\")\n",
    "        \n",
    "    return lista\n",
    "\n",
    "designa_generos(xml_list)"
   ]
  },
  {
   "cell_type": "code",
   "execution_count": null,
   "metadata": {},
   "outputs": [],
   "source": [
    "# "
   ]
  }
 ],
 "metadata": {
  "kernelspec": {
   "display_name": "Python 3.9.7 ('base': conda)",
   "language": "python",
   "name": "python3"
  },
  "language_info": {
   "codemirror_mode": {
    "name": "ipython",
    "version": 3
   },
   "file_extension": ".py",
   "mimetype": "text/x-python",
   "name": "python",
   "nbconvert_exporter": "python",
   "pygments_lexer": "ipython3",
   "version": "3.9.7"
  },
  "orig_nbformat": 4,
  "vscode": {
   "interpreter": {
    "hash": "8e1f904fe714ccd05b7907fe541d28c2ec20b612a1af6f34d013e1f0fd7aabf1"
   }
  }
 },
 "nbformat": 4,
 "nbformat_minor": 2
}
