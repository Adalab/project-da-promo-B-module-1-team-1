{
 "cells": [
  {
   "cell_type": "markdown",
   "metadata": {},
   "source": [
    "# `PROYECTO 1 EQUIPO 1 CUCHIPANDIS 🐼`"
   ]
  },
  {
   "cell_type": "markdown",
   "metadata": {},
   "source": [
    "## LLAMANDO LAS LIBRERÍAS QUE OCUPAREMOS"
   ]
  },
  {
   "cell_type": "code",
   "execution_count": 2,
   "metadata": {},
   "outputs": [],
   "source": [
    "import re\n",
    "import os\n",
    "import xml.etree.ElementTree as ET\n",
    "import mysql.connector\n",
    "import pandas as pd"
   ]
  },
  {
   "cell_type": "markdown",
   "metadata": {},
   "source": [
    "# Python + sql\n",
    "## Creando BBDD y tablas\n",
    "##### Creación de la clase con las funciones de creación de tablas e inserción de datos desde Python a la base de datos SQL ."
   ]
  },
  {
   "cell_type": "code",
   "execution_count": 46,
   "metadata": {},
   "outputs": [],
   "source": [
    "class Crear_bbdd_tablas():\n",
    "    \n",
    "    def __init__ (self,bbdd,tabla):\n",
    "        self.bbdd=bbdd\n",
    "        self.tabla=tabla\n",
    "        \n",
    "    def crear_BBDD (self):#Se le pide al usuario el nombre de la BBDD a crear\n",
    "        cnx = mysql.connector.connect(user='root', password='AlumnaAdalab',\n",
    "                                host='127.0.0.1', database='tienda')\n",
    "        mycursor = cnx.cursor()\n",
    "        sql = (f\"CREATE DATABASE {self.bbdd}\")\n",
    "        try:\n",
    "            mycursor.execute(sql)\n",
    "            print(f\"Se ha creado la BBDD: {self.bbdd}\")\n",
    "\n",
    "        except mysql.connector.Error as err:\n",
    "            print(err)\n",
    "            print(\"Error Code:\", err.errno)\n",
    "            print(\"SQLSTATE\", err.sqlstate)\n",
    "            print(\"Message\", err.msg)\n",
    "        return mycursor.close() #Se cierra la conexión\n",
    "    \n",
    "    def crear_tablas (self):#Se pide al usuario la base de datos a usar y el nombre de la tabla a crear\n",
    "        cnx = mysql.connector.connect(user='root', password='AlumnaAdalab',\n",
    "                                        host='127.0.0.1', database=self.bbdd)\n",
    "        mycursor= cnx.cursor()\n",
    "        try:\n",
    "            mycursor.execute(self.tabla)\n",
    "            print(\"Se creó la tabla\",self.tabla,mycursor)\n",
    "        except mysql.connector.Error as err:\n",
    "            print(err)\n",
    "            print(\"Error Code:\", err.errno)\n",
    "            print(\"SQLSTATE\", err.sqlstate)\n",
    "            print(\"Message\", err.msg)\n",
    "        return mycursor.close()\n",
    "    "
   ]
  },
  {
   "cell_type": "markdown",
   "metadata": {},
   "source": [
    "#### Creamos las variables con las querys para la creación de las tablas"
   ]
  },
  {
   "cell_type": "code",
   "execution_count": 47,
   "metadata": {},
   "outputs": [],
   "source": [
    "tabla_data_sql=\"CREATE TABLE data_sql (index_sql INT NOT NULL,\\\n",
    "                                        q10_part_1 TEXT,\\\n",
    "                                        q10_part_2 TEXT,\\\n",
    "                                        q10_part_3 TEXT,\\\n",
    "                                        q10_part_4 TEXT,\\\n",
    "                                        q10_part_5 TEXT,\\\n",
    "                                        q10_part_6 TEXT,\\\n",
    "                                        q10_part_7 TEXT,\\\n",
    "                                        q10_part_8 TEXT,\\\n",
    "                                        q10_part_9 TEXT,\\\n",
    "                                        q10_part_10 TEXT,\\\n",
    "                                        q10_part_11 TEXT,\\\n",
    "                                        q10_part_12 TEXT,\\\n",
    "                                        q10_part_13 TEXT,\\\n",
    "                                        q10_part_14 TEXT,\\\n",
    "                                        q10_part_15 TEXT,\\\n",
    "                                        q10_part_16 TEXT,\\\n",
    "                                        q10_other TEXT,\\\n",
    "                                        d482xta TEXT,\\\n",
    "                                        PRIMARY KEY (index_sql))\"\n",
    "\n",
    "                                        \n",
    "tabla_data_txt=\"CREATE TABLE data_txt (index_txt INT NOT NULL AUTO_INCREMENT,\\\n",
    "                                        index_sql INT,\\\n",
    "                                        q3 TEXT (1000),\\\n",
    "                                        q4 TEXT (1000),\\\n",
    "                                        q5 TEXT (1000),\\\n",
    "                                        q6 TEXT (1000),\\\n",
    "                                        q7 TEXT (1000),\\\n",
    "                                        q8 TEXT (1000),\\\n",
    "                                        q9 TEXT (1000),\\\n",
    "                                        q11 TEXT (1000),\\\n",
    "                                        q12 TEXT (1000),\\\n",
    "                                        q13 TEXT (1000),\\\n",
    "                                        q14 TEXT (1000),\\\n",
    "                                        q15 TEXT (1000),\\\n",
    "                                        q16 TEXT (1000),\\\n",
    "                                        q17 TEXT (1000),\\\n",
    "                                        q20 TEXT (1000),\\\n",
    "                                        q21 TEXT (1000),\\\n",
    "                                        q22 TEXT (1000),\\\n",
    "                                        q23 TEXT (1000),\\\n",
    "                                        q24 TEXT (1000),\\\n",
    "                                        q25 TEXT (1000),\\\n",
    "                                        q26 TEXT (1000),\\\n",
    "                                        q32 TEXT (1000),\\\n",
    "                                        q33 TEXT (1000),\\\n",
    "                                        q34 TEXT (1000),\\\n",
    "                                        q35 TEXT (1000),\\\n",
    "                                        q41 TEXT (1000),\\\n",
    "                                        PRIMARY KEY (index_txt),\\\n",
    "                                        CONSTRAINT `fk_index_sql`\\\n",
    "                                        FOREIGN KEY (index_sql)\\\n",
    "                                        REFERENCES data_sql(index_sql))\"\n",
    "                                        \n",
    "                                        \n",
    "tabla_data_xml=\"CREATE TABLE data_xml (index_xml INT NOT NULL AUTO_INCREMENT,\\\n",
    "                                        `time` INT NOT NULL,\\\n",
    "                                        age VARCHAR (50) NOT NULL,\\\n",
    "                                        gender VARCHAR (50) NOT NULL,\\\n",
    "                                        index_sql INT NOT NULL,\\\n",
    "                                        PRIMARY KEY (index_xml),\\\n",
    "                                        CONSTRAINT `fk_data_sql`\\\n",
    "                                        FOREIGN KEY (`index_sql`)\\\n",
    "                                        REFERENCES `data_sql`(`index_sql`))\""
   ]
  },
  {
   "cell_type": "code",
   "execution_count": null,
   "metadata": {},
   "outputs": [],
   "source": [
    "crear=Crear_bbdd_tablas(\"proyecto_1_equipo_1\",tabla_data_sql)\n",
    "crear.crear_BBDD()"
   ]
  },
  {
   "cell_type": "code",
   "execution_count": null,
   "metadata": {},
   "outputs": [],
   "source": [
    "crear.crear_tablas()"
   ]
  },
  {
   "cell_type": "code",
   "execution_count": null,
   "metadata": {},
   "outputs": [],
   "source": [
    "Creartxt=Crear_bbdd_tablas(\"proyecto_1_equipo_1\",tabla_data_txt)\n",
    "Creartxt.crear_tablas()"
   ]
  },
  {
   "cell_type": "code",
   "execution_count": null,
   "metadata": {},
   "outputs": [],
   "source": [
    "crearxml=Crear_bbdd_tablas(\"proyecto_1_equipo_1\",tabla_data_xml)\n",
    "crearxml.crear_tablas()"
   ]
  },
  {
   "cell_type": "markdown",
   "metadata": {},
   "source": [
    "## ABRIENDO Y LEYENDO ARCHIVOS...\n",
    "### Creación de clase para la lectura de los archivos xml, txt y sql.\n"
   ]
  },
  {
   "cell_type": "code",
   "execution_count": 21,
   "metadata": {},
   "outputs": [],
   "source": [
    "class Lectura_Ficheros:\n",
    "    \n",
    "    def __init__ (self,xml,txt,sql):\n",
    "        self.xml=xml\n",
    "        self.txt=txt\n",
    "        self.sql=sql\n",
    "    \n",
    "    #Función para leer el archivo xml\n",
    "        \n",
    "    def abrir_xml (self):\n",
    "    \n",
    "        tree = ET.parse(f'../Proyecto_python_sql/{self.xml}') \n",
    "        root = tree.getroot()\n",
    "        \n",
    "        xml_list = []\n",
    "        for child in root:\n",
    "            xml_dict = {}\n",
    "            for subchild in child:\n",
    "                xml_dict[subchild.tag] = subchild.text\n",
    "            xml_list.append(xml_dict) # Es una lista que contiene diccionarios\n",
    "            \n",
    "        return xml_list    \n",
    "    \n",
    "    #Función para leer el archivo txt\n",
    "    \n",
    "    def abrir_txt (self):\n",
    "    \n",
    "        with open(f'{self.txt}','r') as file:\n",
    "            file_txt = file.readlines() # Es una lista que cada línea del fichero txt como un string de todos los datos.\n",
    "        \n",
    "        return file_txt\n",
    "    \n",
    "    #Función para abrir el archivo sql\n",
    "    \n",
    "    def abrir_sql (self):\n",
    "    \n",
    "        with open(f'{self.sql}','r') as file:\n",
    "            file_sql = file.readlines() # Es una lista que cada línea del fichero txt como un string de todos los datos.\n",
    "        \n",
    "        return file_sql\n",
    "        "
   ]
  },
  {
   "cell_type": "code",
   "execution_count": 22,
   "metadata": {},
   "outputs": [],
   "source": [
    "Archivos=Lectura_Ficheros('data_xml.xml','data_txt.txt','data_sql_proyecto_1.sql')\n",
    "mi_archivo_sql=Archivos.abrir_sql()\n",
    "mi_archivo_txt=Archivos.abrir_txt()\n",
    "mi_archivo_xml=Archivos.abrir_xml()"
   ]
  },
  {
   "cell_type": "code",
   "execution_count": null,
   "metadata": {},
   "outputs": [],
   "source": [
    "mi_archivo_sql"
   ]
  },
  {
   "cell_type": "code",
   "execution_count": null,
   "metadata": {},
   "outputs": [],
   "source": [
    "mi_archivo_txt"
   ]
  },
  {
   "cell_type": "code",
   "execution_count": null,
   "metadata": {},
   "outputs": [],
   "source": [
    "mi_archivo_xml"
   ]
  },
  {
   "cell_type": "markdown",
   "metadata": {},
   "source": [
    "## Limpiando los archivos...\n",
    "### Clase para la limpieza/procesado de los datos"
   ]
  },
  {
   "cell_type": "code",
   "execution_count": 16,
   "metadata": {},
   "outputs": [],
   "source": [
    "class Limpiar_Archivos:\n",
    "    \n",
    "        def __init__ (self,xml,txt,sql):\n",
    "                self.xml=xml\n",
    "                self.txt=txt\n",
    "                self.sql=sql\n",
    "        \n",
    "        def limpieza_xml(self):\n",
    "                # Queremos que los valores del index no sean tipo string, sino tipo integer\n",
    "                for i in self.xml :\n",
    "                        i[\"index\"] = int(i[\"index\"])\n",
    "                # Queremos añadir una columna que defina cada uno de los valores de gender con su descripción literal, para que resulte más legible\n",
    "                for i in self.xml :                \n",
    "                        if i[\"gender\"] == \"0\":\n",
    "                                i[\"gender_text\"] = \"Man\" \n",
    "                        elif i[\"gender\"] == \"1\":\n",
    "                                i[\"gender_text\"] = \"Woman\"\n",
    "                        elif i[\"gender\"] == \"2\":\n",
    "                                i[\"gender_text\"] = \"Nonbinary\"\n",
    "                        elif i[\"gender\"] == \"3\":\n",
    "                                i[\"gender_text\"] = \"Prefer not to say\"\n",
    "                        elif i[\"gender\"] == \"4\":\n",
    "                                i[\"gender_text\"] = \"Prefer to self-describe\"\n",
    "                        else:\n",
    "                                print(\"Este es un genero sin definir\")           \n",
    "                # Modificación del nombre de la columna level_0 por index_xml.\n",
    "                for level in self.xml:\n",
    "                        level[\"index_xml\"] = level[\"level_0\"]\n",
    "                        del level[\"level_0\"] \n",
    "                # Modificación del nombre de la columna index por index_sql.\n",
    "                for level2 in self.xml:\n",
    "                        level2[\"index_sql\"] = level2[\"index\"]\n",
    "                        del level2[\"index\"]                \n",
    "                xml_corregido=self.xml                \n",
    "                list_xml=[]\n",
    "                for elem in xml_corregido:\n",
    "                        list_xml.append((elem.get('time'),elem.get('age'),elem.get('gender_text'),elem.get('index_sql')))               \n",
    "                return list_xml\n",
    "        \n",
    "        \n",
    "        def limpieza_txt(self):\n",
    "                \n",
    "                txt_corregido=[]\n",
    "                \n",
    "                for i_string in self.txt:\n",
    "                        new_string=i_string.strip().replace(\"null\",\"NULL\").replace(\"<\",\"under\").replace(\"\\n\",\"\").replace(\" \", \"\")\n",
    "                        txt_corregido.append(new_string)\n",
    "                dicc_txt=dict(enumerate(set(txt_corregido)))\n",
    "                \n",
    "                txt1=list(dicc_txt.values())\n",
    "                \n",
    "                lista_txt=[]\n",
    "                for i in txt1:\n",
    "                        lista=list(i.split(\";\"))\n",
    "                        if(lista[0]!='index_sql'):#creamos un if para que no ingrese el cabezero del archivo ya que da error al insertar porque index_sql es str y no int\n",
    "                                lista_txt.append(lista)  \n",
    "                return lista_txt\n",
    "        \n",
    "        def limpieza_sql(self):\n",
    "                \n",
    "                sql_corregido=[]\n",
    "\n",
    "                for i_string in self.sql:\n",
    "                        new_string=i_string.replace(\"ERROR\",\"NULL\")\n",
    "                        sql_corregido.append(new_string)\n",
    "                        sql_limpio=\"\".join(sql_corregido)\n",
    "                return sql_limpio    "
   ]
  },
  {
   "cell_type": "code",
   "execution_count": 17,
   "metadata": {},
   "outputs": [],
   "source": [
    "Archivoslimpios=Limpiar_Archivos(mi_archivo_xml,mi_archivo_txt,mi_archivo_sql)\n",
    "sql_limpio=Archivoslimpios.limpieza_sql()\n",
    "txt_limpio=Archivoslimpios.limpieza_txt()\n",
    "xml_limpio=Archivoslimpios.limpieza_xml()"
   ]
  },
  {
   "cell_type": "code",
   "execution_count": null,
   "metadata": {},
   "outputs": [],
   "source": [
    "sql_limpio"
   ]
  },
  {
   "cell_type": "code",
   "execution_count": null,
   "metadata": {},
   "outputs": [],
   "source": [
    "txt_limpio"
   ]
  },
  {
   "cell_type": "code",
   "execution_count": null,
   "metadata": {},
   "outputs": [],
   "source": [
    "xml_limpio"
   ]
  },
  {
   "cell_type": "markdown",
   "metadata": {},
   "source": [
    "## Insertando datos a nuestra BBDD.\n",
    "#### Creación de la clase para la inserción de los datos."
   ]
  },
  {
   "cell_type": "code",
   "execution_count": 21,
   "metadata": {},
   "outputs": [],
   "source": [
    "class Insertar_Datos:\n",
    "    \n",
    "    def __init__ (self,bbdd,xml,txt,sql):\n",
    "        self.bbdd=bbdd\n",
    "        self.xml=xml\n",
    "        self.txt=txt\n",
    "        self.sql=sql\n",
    "    \n",
    "    def insertar_datos_xml(self):\n",
    "        cnx = mysql.connector.connect(user='root', password='AlumnaAdalab',\n",
    "                                host='127.0.0.1', database=self.bbdd)\n",
    "        mycursor = cnx.cursor()\n",
    "\n",
    "        datos=\"INSERT INTO data_xml(time,age,gender,index_sql) VALUES (%s,%s,%s,%s)\"\n",
    "    \n",
    "        try:\n",
    "            mycursor.executemany(datos, self.xml)\n",
    "            cnx.commit()\n",
    "            print(mycursor.rowcount, \"registro/s insertado/s.\")\n",
    "        except mysql.connector.Error as err:\n",
    "            print(err)\n",
    "            print(\"Error Code:\", err.errno)\n",
    "            print(\"SQLSTATE\", err.sqlstate)\n",
    "            print(\"Message\", err.msg)\n",
    "        return mycursor.close()\n",
    "    \n",
    "            \n",
    "    def insertar_datos_txt(self):\n",
    "        cnx = mysql.connector.connect(user='root', password='AlumnaAdalab',\n",
    "                                    host='127.0.0.1', database=self.bbdd)\n",
    "        mycursor = cnx.cursor()\n",
    "\n",
    "        datos=\"INSERT INTO data_txt(index_sql,q3,q4,q6,q5,q7,q8,q9,q11,q12,\\\n",
    "                                        q13,q14,q15,q16,q17,q20,q21,q22,q23,q24,\\\n",
    "                                        q25,q26,q32,q33,q34,q35,q41) VALUES(\\\n",
    "                                        %s,%s,%s,%s,%s,%s,%s,%s,%s,%s,\\\n",
    "                                        %s,%s,%s,%s,%s,%s,%s,%s,%s,%s,\\\n",
    "                                        %s,%s,%s,%s,%s,%s,%s)\"\n",
    "        \n",
    "        try:\n",
    "            mycursor.executemany(datos, self.txt)\n",
    "            cnx.commit()\n",
    "            print(mycursor.rowcount, \"registro/s insertado/s.\")\n",
    "        except mysql.connector.Error as err:\n",
    "            print(err)\n",
    "            print(\"Error Code:\", err.errno)\n",
    "            print(\"SQLSTATE\", err.sqlstate)\n",
    "            print(\"Message\", err.msg)\n",
    "    \n",
    "    def insertar_datos_sql(self):\n",
    "        cnx = mysql.connector.connect(user='root', password='AlumnaAdalab',\n",
    "                                    host='127.0.0.1', database=self.bbdd)\n",
    "        mycursor = cnx.cursor()\n",
    "\n",
    "        try:\n",
    "            mycursor.execute(self.sql) #Se quitó el commit porque sino daba error y no subía los archivos\n",
    "            print(\"Registros insertados.\")\n",
    "            mycursor.close()\n",
    "        except mysql.connector.Error as err:\n",
    "            print(err)\n",
    "            print(\"Error Code:\", err.errno)\n",
    "            print(\"SQLSTATE\", err.sqlstate)\n",
    "            print(\"Message\", err.msg)\n",
    "        return mycursor.close()"
   ]
  },
  {
   "cell_type": "code",
   "execution_count": 41,
   "metadata": {},
   "outputs": [],
   "source": [
    "#Guardamos el nombre de la BBDD a utilizar para no tener que escribirlo\n",
    "nombrebbdd='proyecto_1_equipo_1'"
   ]
  },
  {
   "cell_type": "code",
   "execution_count": 24,
   "metadata": {},
   "outputs": [],
   "source": [
    "Insertar= Insertar_Datos(nombrebbdd,xml_limpio,txt_limpio,sql_limpio)"
   ]
  },
  {
   "cell_type": "code",
   "execution_count": null,
   "metadata": {},
   "outputs": [],
   "source": [
    "Insertar.insertar_datos_sql()"
   ]
  },
  {
   "cell_type": "code",
   "execution_count": null,
   "metadata": {},
   "outputs": [],
   "source": [
    "Insertar.insertar_datos_xml()"
   ]
  },
  {
   "cell_type": "code",
   "execution_count": null,
   "metadata": {},
   "outputs": [],
   "source": [
    "Insertar.insertar_datos_txt()"
   ]
  },
  {
   "cell_type": "markdown",
   "metadata": {},
   "source": [
    "## Realizando consultas"
   ]
  },
  {
   "cell_type": "code",
   "execution_count": 30,
   "metadata": {},
   "outputs": [],
   "source": [
    "class Consultas:\n",
    "    def __init__ (self,bbdd,tabla,query):\n",
    "        self.bbdd=bbdd\n",
    "        self.tabla=tabla\n",
    "        self.query=query\n",
    "    \n",
    "    def consulta_bbdd(self):\n",
    "        cnx = mysql.connector.connect(user='root', password='AlumnaAdalab',\n",
    "                                    host='127.0.0.1',\n",
    "                                    database=\"INFORMATION_SCHEMA\")\n",
    "        mycursor = cnx.cursor()\n",
    "        \n",
    "        mycursor.execute(\"SHOW DATABASES\")\n",
    "        for i in mycursor:\n",
    "            print(i)\n",
    "        return mycursor.close()\n",
    "    \n",
    "    def consulta_tablas(self):\n",
    "        cnx = mysql.connector.connect(user='root', password='AlumnaAdalab',\n",
    "                                host='127.0.0.1',\n",
    "                                database=self.bbdd)\n",
    "        mycursor = cnx.cursor()\n",
    "        mycursor.execute(\"SHOW TABLES\")\n",
    "        for i in mycursor:\n",
    "            print(i)\n",
    "        return mycursor.close()\n",
    "    \n",
    "    def consulta_columnas(self):\n",
    "        cnx = mysql.connector.connect(user='root', password='AlumnaAdalab',\n",
    "                                host='127.0.0.1',\n",
    "                                database=\"INFORMATION_SCHEMA\")\n",
    "        mycursor = cnx.cursor()\n",
    "        \n",
    "        mycursor.execute(F\"SELECT * FROM COLUMNS WHERE TABLE_NAME='{self.tabla}'\")\n",
    "        for i in mycursor:\n",
    "            print(i)\n",
    "        return mycursor.close()\n",
    "    \n",
    "    def consultas_datos(self):\n",
    "        from mysql.connector import errorcode\n",
    "        cnx = mysql.connector.connect(user='root', password='AlumnaAdalab',\n",
    "                                    host='127.0.0.1',\n",
    "                                    database=self.bbdd)\n",
    "        mycursor = cnx.cursor()\n",
    "        try:\n",
    "            consulta= pd.read_sql_query(self.query,cnx)\n",
    "            print(consulta)\n",
    "            #Se le pregunta al usuario si quiere guardar su consulta\n",
    "            respuesta=input(\"¿Deseas guardar tu consulta en un archivo csv? S/N\")\n",
    "            if \"S\" == respuesta.upper():\n",
    "                archivo=input(\"Escribe el nombre con el que quieres guardar tu consulta\")\n",
    "                consulta.to_csv(f\"{archivo}.csv\")\n",
    "                print(f\"Tu consulta se ha guardado en el archivo '{archivo}.csv' con éxito\")\n",
    "            else:\n",
    "                print(\"Consulta no guardada\")    \n",
    "        except mysql.connector.DatabaseError as err:\n",
    "            print(\"No se puede realizar tu consulta verifica tu query\")\n",
    "            print(err)\n",
    "            print(\"Error Code:\", err.errno)\n",
    "            print(\"SQLSTATE\", err.sqlstate)\n",
    "            print(\"Message\", err.msg)\n",
    "        except :\n",
    "            print(\"No se puede realizar tu consulta verifica tu query. Pista... ¿escribiste bien el nombre de la tabla o la BBDD?\")\n",
    "        return mycursor.close()\n",
    "        "
   ]
  },
  {
   "cell_type": "code",
   "execution_count": 48,
   "metadata": {},
   "outputs": [],
   "source": [
    "consulta= \"SELECT order_id, customer_id, employee_id, order_date\\\n",
    "    FROM orders WHERE employee_id IN \\\n",
    "        (SELECT first_name = 'Nancy' AND last_name = 'Davolio' FROM employees)\"\n",
    "\n",
    "bbdd=\"northwind\""
   ]
  },
  {
   "cell_type": "code",
   "execution_count": 49,
   "metadata": {},
   "outputs": [],
   "source": [
    "prueba= Consultas(bbdd,'orders',consulta)"
   ]
  },
  {
   "cell_type": "code",
   "execution_count": null,
   "metadata": {},
   "outputs": [],
   "source": [
    "prueba.consulta_bbdd()"
   ]
  },
  {
   "cell_type": "code",
   "execution_count": null,
   "metadata": {},
   "outputs": [],
   "source": [
    "prueba.consulta_tablas()"
   ]
  },
  {
   "cell_type": "code",
   "execution_count": null,
   "metadata": {},
   "outputs": [],
   "source": [
    "prueba.consulta_columnas()"
   ]
  },
  {
   "cell_type": "code",
   "execution_count": null,
   "metadata": {},
   "outputs": [],
   "source": [
    "prueba.consultas_datos()"
   ]
  }
 ],
 "metadata": {
  "kernelspec": {
   "display_name": "Python 3.9.7 ('base')",
   "language": "python",
   "name": "python3"
  },
  "language_info": {
   "codemirror_mode": {
    "name": "ipython",
    "version": 3
   },
   "file_extension": ".py",
   "mimetype": "text/x-python",
   "name": "python",
   "nbconvert_exporter": "python",
   "pygments_lexer": "ipython3",
   "version": "3.9.7"
  },
  "orig_nbformat": 4,
  "vscode": {
   "interpreter": {
    "hash": "c077ba4c986d0c674841b1bde68a642c04a6e440695030e9d779c08f2cbfb9f4"
   }
  }
 },
 "nbformat": 4,
 "nbformat_minor": 2
}
