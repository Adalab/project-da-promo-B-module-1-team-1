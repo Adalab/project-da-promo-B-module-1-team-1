{
 "cells": [
  {
   "cell_type": "code",
   "execution_count": 43,
   "metadata": {},
   "outputs": [],
   "source": [
    "import matplotlib.pyplot as plt\n",
    "import pandas as pd"
   ]
  },
  {
   "cell_type": "markdown",
   "metadata": {},
   "source": [
    "ESTE ES NUESTRO TRABAJO DESDE EL WORKBENCH DE MYSQL\n",
    "\n",
    "-- Muestrame todos los Hombres entre los 30-34 años\n",
    "SELECT age, gender \n",
    "FROM data_xml\n",
    "WHERE age = \"30-34\" AND gender = \"Man\";\n",
    "\n",
    "-- Distribución por generos de las personas comprendidas entre los 30 y 34 años\n",
    "SELECT COUNT(age), gender \n",
    "FROM data_xml\n",
    "WHERE age = \"30-34\" \n",
    "GROUP BY gender;\n",
    "\n",
    "-- Muestrame el número de personas no-binarias que hay por cada rango de edad.\n",
    "SELECT DISTINCT age, COUNT(gender)\n",
    "FROM data_xml\n",
    "WHERE gender = \"Nonbinary\" \n",
    "GROUP BY age\n",
    "ORDER BY age;\n",
    "\n",
    "-- Muestrame la distribución de los datos según los rangos de edad.\n",
    "SELECT DISTINCT age, COUNT(gender)\n",
    "FROM data_xml\n",
    "GROUP BY age\n",
    "ORDER BY age;\n",
    "\n",
    "\n",
    "\n",
    "\n",
    "\n",
    "AHORA VAMOS A HACER EL MISMO TRABAJO USANDO PYTHON DESDE JUPYTER"
   ]
  },
  {
   "cell_type": "code",
   "execution_count": null,
   "metadata": {},
   "outputs": [],
   "source": [
    "# Nos importamos nuestra clase Consultas, que hemos creado para nuestro cliente Adalab\n",
    "import Consultas"
   ]
  },
  {
   "cell_type": "code",
   "execution_count": null,
   "metadata": {},
   "outputs": [],
   "source": [
    "# Muestrame todos los Hombres entre los 30-34 años\n",
    "query1 = \"\"\"SELECT age, gender \n",
    "FROM data_xml\n",
    "WHERE age = \"30-34\" AND gender = 'Man'\"\"\""
   ]
  },
  {
   "cell_type": "code",
   "execution_count": null,
   "metadata": {},
   "outputs": [],
   "source": [
    "# Distribución por generos de las personas comprendidas entre los 30 y 34 años\n",
    "query2 = \"\"\"SELECT COUNT(age), gender \n",
    "FROM data_xml\n",
    "WHERE age = \"30-34\" \n",
    "GROUP BY gender\"\"\""
   ]
  },
  {
   "cell_type": "code",
   "execution_count": null,
   "metadata": {},
   "outputs": [],
   "source": [
    "# Muestrame el número de personas no-binarias que hay por cada rango de edad.\n",
    "query3 = \"\"\"SELECT DISTINCT age, COUNT(gender)\n",
    "FROM data_xml\n",
    "WHERE gender = \"Nonbinary\" \n",
    "GROUP BY age\n",
    "ORDER BY age\"\"\""
   ]
  },
  {
   "cell_type": "code",
   "execution_count": null,
   "metadata": {},
   "outputs": [],
   "source": [
    "# Muestrame la distribución de los datos según los rangos de edad.\n",
    "query4 = \"\"\"SELECT DISTINCT age, COUNT(gender)\n",
    "FROM data_xml\n",
    "GROUP BY age\n",
    "ORDER BY age\"\"\""
   ]
  },
  {
   "cell_type": "code",
   "execution_count": null,
   "metadata": {},
   "outputs": [],
   "source": [
    "# definimos nuestros argumentos para usar en la clase.\n",
    "bbdd = \"proyecto_1_adalab\"\n",
    "tabla = \"data_xml\""
   ]
  },
  {
   "cell_type": "code",
   "execution_count": null,
   "metadata": {},
   "outputs": [],
   "source": [
    "Consultas(bbdd, tabla, query1).consultas_datos()"
   ]
  },
  {
   "cell_type": "code",
   "execution_count": 30,
   "metadata": {},
   "outputs": [
    {
     "name": "stdout",
     "output_type": "stream",
     "text": [
      "   COUNT(age)                   gender\n",
      "0        2765                      Man\n",
      "1         618                    Woman\n",
      "2          34        Prefer not to say\n",
      "3          17                Nonbinary\n",
      "4           7  Prefer to self-describe\n",
      "Tu consulta se ha guardado en el archivo 'ejemplo.csv' con éxito\n"
     ]
    }
   ],
   "source": [
    "# EJEMPLO: VAMOS A GUARDAR EL RESULTADO DE ESTA CONSULTA PARA PODERLO TRABAJAR DESDE .csv\n",
    "\n",
    "# Distribución por generos de las personas comprendidas entre los 30 y 34 años\n",
    "ejemplo = Consultas(bbdd, tabla, query2).consultas_datos()\n",
    "\n"
   ]
  }
 ],
 "metadata": {
  "kernelspec": {
   "display_name": "Python 3.9.7 ('base')",
   "language": "python",
   "name": "python3"
  },
  "language_info": {
   "codemirror_mode": {
    "name": "ipython",
    "version": 3
   },
   "file_extension": ".py",
   "mimetype": "text/x-python",
   "name": "python",
   "nbconvert_exporter": "python",
   "pygments_lexer": "ipython3",
   "version": "3.9.7"
  },
  "orig_nbformat": 4,
  "vscode": {
   "interpreter": {
    "hash": "8e1f904fe714ccd05b7907fe541d28c2ec20b612a1af6f34d013e1f0fd7aabf1"
   }
  }
 },
 "nbformat": 4,
 "nbformat_minor": 2
}
